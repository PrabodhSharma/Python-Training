{
 "cells": [
  {
   "cell_type": "code",
   "execution_count": 1,
   "metadata": {},
   "outputs": [],
   "source": [
    "# Python has a built-in package called re, which can be used to work with Regular Expressions.\n",
    "\n",
    "# Import the re module:"
   ]
  },
  {
   "cell_type": "code",
   "execution_count": 2,
   "metadata": {},
   "outputs": [],
   "source": [
    "# RegEx Functions\n",
    "# The re module offers a set of functions that allows us to search a string for a match:\n",
    "\n",
    "# Function\tDescription\n",
    "# findall\tReturns a list containing all matches\n",
    "# search\tReturns a Match object if there is a match anywhere in the string\n",
    "# split\tReturns a list where the string has been split at each match\n",
    "# sub\tReplaces one or many matches with a string\n"
   ]
  },
  {
   "cell_type": "code",
   "execution_count": null,
   "metadata": {},
   "outputs": [],
   "source": [
    "# Special Sequences\n",
    "# A special sequence is a \\ followed by one of the characters in the list below, and has a special meaning:\n",
    "\n",
    "# Character\tDescription\tExample\n",
    "# \\A\tReturns a match if the specified characters are at the beginning of the string\t\"\\AThe\"\t\n",
    "# \\b\tReturns a match where the specified characters are at the beginning or at the end of a word\tr\"\\bain\"\n",
    "#         r\"ain\\b\"\t\n",
    "# \\B\tReturns a match where the specified characters are present, but NOT at the beginning (or at the end) of a word\tr\"\\Bain\"\n",
    "#          r\"ain\\B\"\t\n",
    "# \\d\tReturns a match where the string contains digits (numbers from 0-9)\t\"\\d\"\t\n",
    "# \\D\tReturns a match where the string DOES NOT contain digits\t\"\\D\"\t\n",
    "# \\s\tReturns a match where the string contains a white space character\t\"\\s\"\t\n",
    "# \\S\tReturns a match where the string DOES NOT contain a white space character\t\"\\S\"\t\n",
    "# \\w\tReturns a match where the string contains any word characters (characters from a to Z, digits from 0-9, and the underscore _ character)\t\"\\w\"\t\n",
    "# \\W\tReturns a match where the string DOES NOT contain any word characters\t\"\\W\"\t\n",
    "# \\Z\tReturns a match if the specified characters are at the end of the string\t\"Spain\\Z\""
   ]
  },
  {
   "cell_type": "code",
   "execution_count": 7,
   "metadata": {},
   "outputs": [],
   "source": [
    "# Metacharacters\n",
    "# Metacharacters are characters with a special meaning:\n",
    "\n",
    "# Character\tDescription\tExample\n",
    "# []\tA set of characters\t\"[a-m]\"\t\n",
    "# \\\tSignals a special sequence (can also be used to escape special characters)\t\"\\d\"\t\n",
    "# .\tAny character (except newline character)\t\"he..o\"\t\n",
    "# ^\tStarts with\t\"^hello\"\t\n",
    "# $\tEnds with\t\"world$\"\t\n",
    "# *\tZero or more occurrences\t\"aix*\"\t\n",
    "# +\tOne or more occurrences\t\"aix+\"\t\n",
    "# {}\tExactly the specified number of occurrences\t\"al{2}\"\t\n",
    "# |\tEither or\t\"falls|stays\"\t\n",
    "# ()\tCapture and group"
   ]
  },
  {
   "cell_type": "code",
   "execution_count": 2,
   "metadata": {},
   "outputs": [],
   "source": [
    "import re"
   ]
  },
  {
   "cell_type": "code",
   "execution_count": 6,
   "metadata": {},
   "outputs": [
    {
     "name": "stdout",
     "output_type": "stream",
     "text": [
      "YES! We have a match!\n"
     ]
    }
   ],
   "source": [
    "#Check if the string starts with \"The\" and ends with \"Spain\":\n",
    "\n",
    "txt = \"The rain in Spain\"\n",
    "x = re.search(\"^The.*Spain$\", txt)\n",
    "\n",
    "if (x):\n",
    "  print(\"YES! We have a match!\")\n",
    "else:\n",
    "  print(\"No match\")\n"
   ]
  },
  {
   "cell_type": "code",
   "execution_count": null,
   "metadata": {},
   "outputs": [],
   "source": [
    "# search() versus match()\n",
    "# The match() function checks for a match only at the beginning of the string (by default) whereas the search() function checks for a match anywhere in the string."
   ]
  },
  {
   "cell_type": "code",
   "execution_count": 9,
   "metadata": {},
   "outputs": [
    {
     "name": "stdout",
     "output_type": "stream",
     "text": [
      "['ai', 'ai']\n"
     ]
    }
   ],
   "source": [
    "import re\n",
    "\n",
    "txt = \"The rain in Spain\"\n",
    "x = re.findall(\"ai\", txt)\n",
    "print(x)"
   ]
  },
  {
   "cell_type": "code",
   "execution_count": 11,
   "metadata": {},
   "outputs": [
    {
     "name": "stdout",
     "output_type": "stream",
     "text": [
      "[]\n"
     ]
    }
   ],
   "source": [
    "txt = \"The rain in Spain\"\n",
    "x = re.findall(\"Portugal\", txt)           # The list contains the matches in the order they are found.\n",
    "\n",
    "                                         #  If no matches are found, an empty list is returned:\n",
    "print(x)"
   ]
  },
  {
   "cell_type": "code",
   "execution_count": 14,
   "metadata": {},
   "outputs": [
    {
     "name": "stdout",
     "output_type": "stream",
     "text": [
      "The first white-space character is located in position: 3\n"
     ]
    }
   ],
   "source": [
    "# start() returns an integer that is the position in the text where the match starts, while end() returns the ending position\n",
    "\n",
    "import re\n",
    "\n",
    "txt = \"The rain in Spain\"\n",
    "x = re.search(\"\\s\", txt)\n",
    "\n",
    "print(\"The first white-space character is located in position:\", x.start())"
   ]
  },
  {
   "cell_type": "code",
   "execution_count": 15,
   "metadata": {},
   "outputs": [
    {
     "name": "stdout",
     "output_type": "stream",
     "text": [
      "None\n"
     ]
    }
   ],
   "source": [
    "# If no matches are found, the value None is returned:\n",
    "\n",
    "txt = \"The rain in Spain\"\n",
    "x = re.search(\"Portugal\", txt)\n",
    "print(x)"
   ]
  },
  {
   "cell_type": "code",
   "execution_count": 16,
   "metadata": {},
   "outputs": [
    {
     "name": "stdout",
     "output_type": "stream",
     "text": [
      "['The', 'rain', 'in', 'Spain']\n"
     ]
    }
   ],
   "source": [
    "# The split() function returns a list where the string has been split at each match:\n",
    "\n",
    "txt = \"The rain in Spain\"\n",
    "x = re.split(\"\\s\", txt)\n",
    "print(x)"
   ]
  },
  {
   "cell_type": "code",
   "execution_count": 17,
   "metadata": {},
   "outputs": [
    {
     "name": "stdout",
     "output_type": "stream",
     "text": [
      "['The', 'rain in Spain']\n"
     ]
    }
   ],
   "source": [
    "# Split the string only at the first occurrence:\n",
    "\n",
    "txt = \"The rain in Spain\"\n",
    "x = re.split(\"\\s\", txt, 1)\n",
    "print(x)"
   ]
  },
  {
   "cell_type": "code",
   "execution_count": 18,
   "metadata": {},
   "outputs": [
    {
     "name": "stdout",
     "output_type": "stream",
     "text": [
      "The9rain9in9Spain\n"
     ]
    }
   ],
   "source": [
    "# The sub() function replaces the matches with the text of your choice:\n",
    "\n",
    "# Replace every white-space character with the number 9:\n",
    "\n",
    "txt = \"The rain in Spain\"\n",
    "x = re.sub(\"\\s\", \"9\", txt)\n",
    "print(x)"
   ]
  },
  {
   "cell_type": "code",
   "execution_count": 19,
   "metadata": {},
   "outputs": [
    {
     "name": "stdout",
     "output_type": "stream",
     "text": [
      "The9rain9in Spain\n"
     ]
    }
   ],
   "source": [
    "# You can control the number of replacements by specifying the count parameter:\n",
    "\n",
    "txt = \"The rain in Spain\"\n",
    "x = re.sub(\"\\s\", \"9\", txt, 2)\n",
    "print(x)"
   ]
  },
  {
   "cell_type": "code",
   "execution_count": 58,
   "metadata": {},
   "outputs": [
    {
     "name": "stdout",
     "output_type": "stream",
     "text": [
      "Valid Email\n",
      "Valid Email\n",
      "Valid Email\n",
      "Invalid Email\n"
     ]
    }
   ],
   "source": [
    "# Python program to validate an Email \n",
    "  \n",
    "# import re module  \n",
    "\n",
    "import re \n",
    "  \n",
    "# Make a regular expression \n",
    "# for validating an Email \n",
    "\n",
    "regex = '^\\w+([\\.-]?\\w+)*@\\w+([\\.-]?\\w+)*(\\.\\w{2,3})+$'\n",
    "\n",
    "\n",
    "\n",
    "# Define a function for \n",
    "# for validating an Email \n",
    "\n",
    "def check(email):  \n",
    "  \n",
    "    # pass the regualar expression \n",
    "    # and the string in search() method \n",
    "    if(re.search(regex,email)):  \n",
    "        print(\"Valid Email\")  \n",
    "          \n",
    "    else:  \n",
    "        print(\"Invalid Email\")  \n",
    "    \n",
    "email = \"prabodhsharma451@gmail.com\"\n",
    "check(email)\n",
    "email = \"prabodh123@outlook.com\"\n",
    "check(email)\n",
    "email = \"prab_45@corp.org\"\n",
    "check(email)\n",
    "email = \"pra123.com\"\n",
    "check(email)\n",
    "\n",
    "      "
   ]
  },
  {
   "cell_type": "code",
   "execution_count": null,
   "metadata": {},
   "outputs": [],
   "source": []
  }
 ],
 "metadata": {
  "kernelspec": {
   "display_name": "Python 3",
   "language": "python",
   "name": "python3"
  },
  "language_info": {
   "codemirror_mode": {
    "name": "ipython",
    "version": 3
   },
   "file_extension": ".py",
   "mimetype": "text/x-python",
   "name": "python",
   "nbconvert_exporter": "python",
   "pygments_lexer": "ipython3",
   "version": "3.7.3"
  }
 },
 "nbformat": 4,
 "nbformat_minor": 2
}
