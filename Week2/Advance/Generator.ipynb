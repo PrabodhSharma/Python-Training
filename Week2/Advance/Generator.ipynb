{
 "cells": [
  {
   "cell_type": "code",
   "execution_count": 9,
   "metadata": {},
   "outputs": [],
   "source": [
    "# Python Iterators\n",
    "# An iterator is an object that contains a countable number of values.\n",
    "\n",
    "# An iterator is an object that can be iterated upon, meaning that you can traverse through all the values."
   ]
  },
  {
   "cell_type": "code",
   "execution_count": 10,
   "metadata": {},
   "outputs": [
    {
     "name": "stdout",
     "output_type": "stream",
     "text": [
      "sano banana\n",
      "thulo banana\n"
     ]
    }
   ],
   "source": [
    "tuple=(\"sano banana\" ,\"thulo banana\", \"jhan thulo banana\")\n",
    "myiterator = iter(tuple)\n",
    "\n",
    "print(next(myiterator))\n",
    "print(next(myiterator))"
   ]
  },
  {
   "cell_type": "code",
   "execution_count": 11,
   "metadata": {},
   "outputs": [
    {
     "name": "stdout",
     "output_type": "stream",
     "text": [
      "b\n",
      "a\n",
      "n\n",
      "a\n",
      "n\n",
      "a\n"
     ]
    }
   ],
   "source": [
    "mystr = \"banana\"\n",
    "myit = iter(mystr)\n",
    "\n",
    "print(next(myit))\n",
    "print(next(myit))\n",
    "print(next(myit))\n",
    "print(next(myit))\n",
    "print(next(myit))\n",
    "print(next(myit))"
   ]
  },
  {
   "cell_type": "code",
   "execution_count": 12,
   "metadata": {},
   "outputs": [
    {
     "name": "stdout",
     "output_type": "stream",
     "text": [
      "sano banana\n",
      "thulo banana\n",
      "jhan thulo banana\n"
     ]
    }
   ],
   "source": [
    "tuple=(\"sano banana\" ,\"thulo banana\", \"jhan thulo banana\")\n",
    "myiterator = iter(tuple)\n",
    "\n",
    "for x in tuple:\n",
    "    print(x)"
   ]
  },
  {
   "cell_type": "code",
   "execution_count": 13,
   "metadata": {},
   "outputs": [],
   "source": [
    "# Create an Iterator\n",
    "\n",
    "# To create an object/class as an iterator you have to implement the methods __iter__() and __next__() to your object.\n",
    "\n",
    "# __iter__ returns the iterator object itself. This is used in for and in statements.\n",
    "\n",
    "# __next__ method returns the next value from the iterator. If there is no more items to return then it should raise StopIteration exception"
   ]
  },
  {
   "cell_type": "code",
   "execution_count": 14,
   "metadata": {},
   "outputs": [],
   "source": [
    "#Create an iterator that returns numbers, starting with 1, and each sequence will increase by one (returning 1,2,3,4,5 etc.):\n",
    "\n",
    "class yoyo:\n",
    "    def __iter__(self):\n",
    "        self.a=1\n",
    "        return self\n",
    "    \n",
    "    def __next__(self):\n",
    "        x=self.a\n",
    "        self.a += 1\n",
    "        return x\n",
    "\n",
    "myclass = yoyo()\n",
    "myiterator = iter(myclass)\n",
    "\n",
    "# print(next(myiterator))\n",
    "# print(next(myiterator))\n",
    "# print(next(myiterator))\n",
    "# print(next(myiterator))\n",
    "\n",
    "# for x in myiterator:                  #if this for loop is used iteration will continue in infinite , \n",
    "#     print(x)\n"
   ]
  },
  {
   "cell_type": "code",
   "execution_count": 15,
   "metadata": {},
   "outputs": [],
   "source": [
    "# StopIteration\n",
    "\n",
    "# The example above would continue forever if you had enough next() statements, or if it was used in a for loop.\n",
    "\n",
    "# To prevent the iteration to go on forever, we can use the StopIteration statement.\n",
    "\n",
    "# In the __next__() method, we can add a terminating condition to raise an error if the iteration is done a specified number of times:"
   ]
  },
  {
   "cell_type": "code",
   "execution_count": 16,
   "metadata": {},
   "outputs": [
    {
     "name": "stdout",
     "output_type": "stream",
     "text": [
      "1\n",
      "2\n",
      "3\n",
      "4\n",
      "5\n",
      "6\n",
      "7\n",
      "8\n",
      "9\n",
      "10\n",
      "11\n",
      "12\n",
      "13\n",
      "14\n",
      "15\n",
      "16\n",
      "17\n",
      "18\n",
      "19\n",
      "20\n"
     ]
    }
   ],
   "source": [
    "class yoyo:\n",
    "    def __iter__(self):\n",
    "        self.a=1\n",
    "        return self\n",
    "    \n",
    "    def __next__(self):\n",
    "        \n",
    "        if self.a <= 20:\n",
    "         \n",
    "          x = self.a\n",
    "          self.a += 1\n",
    "          return x\n",
    "        \n",
    "        else:\n",
    "          raise StopIteration\n",
    "        \n",
    "\n",
    "myclass = yoyo()\n",
    "myiterator = iter(myclass)\n",
    "\n",
    "\n",
    "for x in myiterator:                  \n",
    "    print(x)\n"
   ]
  },
  {
   "cell_type": "code",
   "execution_count": 17,
   "metadata": {},
   "outputs": [],
   "source": [
    "# GENERATOR\n",
    "# a simple generator using the yield statements. We can use it in a for loop just like we use any other iterators.\n",
    "# Generators are iterators, a kind of iterable you can only iterate over once. Generators do not store all the values in memory, they generate the values on the fly:\n",
    "    \n",
    "# the yield statement is used to define generators, replacing the return of a function to provide a result to its caller without destroying local variables.\n",
    "\n",
    "\n"
   ]
  },
  {
   "cell_type": "code",
   "execution_count": 37,
   "metadata": {},
   "outputs": [
    {
     "name": "stdout",
     "output_type": "stream",
     "text": [
      "the next number is 33\n",
      "the next number is 6\n",
      "the next number is 35\n",
      "the next number is 31\n",
      "the next number is 14\n",
      "the next number is 27\n"
     ]
    }
   ],
   "source": [
    "import random\n",
    "\n",
    "def babayaga():\n",
    "    for x in range(6):\n",
    "        yield random.randint(1,40)\n",
    "        \n",
    "for z in babayaga():\n",
    "   print(\"the next number is\",z)\n",
    "   # or do this print(z)\n",
    "    "
   ]
  },
  {
   "cell_type": "code",
   "execution_count": null,
   "metadata": {},
   "outputs": [],
   "source": []
  }
 ],
 "metadata": {
  "kernelspec": {
   "display_name": "Python 3",
   "language": "python",
   "name": "python3"
  },
  "language_info": {
   "codemirror_mode": {
    "name": "ipython",
    "version": 3
   },
   "file_extension": ".py",
   "mimetype": "text/x-python",
   "name": "python",
   "nbconvert_exporter": "python",
   "pygments_lexer": "ipython3",
   "version": "3.7.3"
  }
 },
 "nbformat": 4,
 "nbformat_minor": 2
}
