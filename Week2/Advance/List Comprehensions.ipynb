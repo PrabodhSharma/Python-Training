{
 "cells": [
  {
   "cell_type": "code",
   "execution_count": 2,
   "metadata": {},
   "outputs": [],
   "source": [
    "# # List Comprehensions\n",
    "\n",
    "# List Comprehensions is a very powerful tool, which creates a new list based on another list, in a single, readable line.\n",
    "\n",
    "# For example, let's say we need to create a list of integers which specify the length of each word in a certain sentence, but only if the word is not the word \"the\".\n",
    "\n"
   ]
  },
  {
   "cell_type": "code",
   "execution_count": 41,
   "metadata": {
    "scrolled": true
   },
   "outputs": [
    {
     "name": "stdout",
     "output_type": "stream",
     "text": [
      "['jay', 'jay', 'shiva', 'shankar', 'jay', 'sambho', 'jay', 'bholenath', 'yo', 'yo', 'babayaga']\n",
      "[3, 3, 5, 7, 3, 6, 3, 9, 2, 2, 8]\n"
     ]
    }
   ],
   "source": [
    "#withour List comprehensions \n",
    "\n",
    "sentence = \"jay jay shiva shankar jay sambho jay bholenath yo yo babayaga\"\n",
    "word = sentence.split()\n",
    "word_length= []\n",
    "\n",
    "for x in word:\n",
    "    #if x != \"shankar\":\n",
    "       word_length.append(len(x))\n",
    "\n",
    "print(word)\n",
    "print(word_length)"
   ]
  },
  {
   "cell_type": "code",
   "execution_count": 44,
   "metadata": {},
   "outputs": [
    {
     "name": "stdout",
     "output_type": "stream",
     "text": [
      "['jay', 'jay', 'shiva', 'shankar', 'jay', 'sambho', 'jay', 'bholenath', 'yo', 'yo', 'babayaga']\n",
      "[3, 3, 5, 7, 3, 6, 3, 9, 2, 2, 8]\n"
     ]
    }
   ],
   "source": [
    "# With list comprehensions\n",
    "\n",
    "sentence = \"jay jay shiva shankar jay sambho jay bholenath yo yo babayaga\"\n",
    "word = sentence.split()\n",
    "word_length= [len(x) for x in word]   #or word_length = [len(x) for x in word if x != \"shankar\"]\n",
    "\n",
    "print(word)\n",
    "print(word_length)"
   ]
  },
  {
   "cell_type": "code",
   "execution_count": 46,
   "metadata": {},
   "outputs": [
    {
     "name": "stdout",
     "output_type": "stream",
     "text": [
      "[34, 44, 68, 44, 12]\n"
     ]
    }
   ],
   "source": [
    "#listing out only positive integer number using list comprehensions\n",
    "\n",
    "numbers = [34.6, -203.4, 44.9, 68.3, -12.2, 44.6, 12.7]\n",
    "newlist = [int(x) for x in numbers if x >0]\n",
    "print(newlist)"
   ]
  }
 ],
 "metadata": {
  "kernelspec": {
   "display_name": "Python 3",
   "language": "python",
   "name": "python3"
  },
  "language_info": {
   "codemirror_mode": {
    "name": "ipython",
    "version": 3
   },
   "file_extension": ".py",
   "mimetype": "text/x-python",
   "name": "python",
   "nbconvert_exporter": "python",
   "pygments_lexer": "ipython3",
   "version": "3.7.3"
  }
 },
 "nbformat": 4,
 "nbformat_minor": 2
}
