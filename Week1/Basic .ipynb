{
 "cells": [
  {
   "cell_type": "code",
   "execution_count": 1,
   "metadata": {},
   "outputs": [],
   "source": [
    "#Basic"
   ]
  },
  {
   "cell_type": "code",
   "execution_count": 2,
   "metadata": {},
   "outputs": [
    {
     "name": "stdout",
     "output_type": "stream",
     "text": [
      "hello world\n"
     ]
    }
   ],
   "source": [
    "hello=\"hello\"\n",
    "world=\"world\"\n",
    "helloworld= hello + \" \" + world\n",
    "print(helloworld)"
   ]
  },
  {
   "cell_type": "code",
   "execution_count": 3,
   "metadata": {},
   "outputs": [
    {
     "name": "stdout",
     "output_type": "stream",
     "text": [
      "Winter is coming\n"
     ]
    }
   ],
   "source": [
    "txt = \"Winter is coming\"  #to print doublequotes word inside doublequotes we use \\\"--any word--\"\\\n",
    "print(txt)"
   ]
  },
  {
   "cell_type": "code",
   "execution_count": 4,
   "metadata": {},
   "outputs": [],
   "source": [
    "#NOTE:\n",
    "\n",
    "#PYTHON doesn't combine number and string but we use \"format()\" to combine string and number\n",
    "\n",
    "#eg:\n",
    "#     z=5\n",
    "#     n=\"Prabodh\"\n",
    "#     print(z+n)  ----In this, python produces error. this is not allowed"
   ]
  },
  {
   "cell_type": "code",
   "execution_count": 5,
   "metadata": {},
   "outputs": [
    {
     "name": "stdout",
     "output_type": "stream",
     "text": [
      "my name is prabodh and i am 22\n",
      "I want 5 pieces book of item number 11234 with price 590\n"
     ]
    }
   ],
   "source": [
    "#combining string and number \n",
    "age=22\n",
    "name=\"prabodh\"\n",
    "print(\"my name is \" + name  + \" \" \"and i am\" \" \"+ format(age))\n",
    "\n",
    "#OR\n",
    "# The format() method takes the passed arguments, formats them, and places them in the string where the placeholders {} are:\n",
    "\n",
    "quantity =5\n",
    "price=590\n",
    "itemnumber=11234\n",
    "category=\"Book\"\n",
    "\n",
    "myorder=\"I want {} pieces book of item number {} with price {}\"\n",
    "\n",
    "print(myorder.format(quantity,itemnumber,price))"
   ]
  },
  {
   "cell_type": "code",
   "execution_count": 6,
   "metadata": {},
   "outputs": [],
   "source": [
    "#Assign single value to several variable"
   ]
  },
  {
   "cell_type": "code",
   "execution_count": 7,
   "metadata": {
    "scrolled": true
   },
   "outputs": [
    {
     "name": "stdout",
     "output_type": "stream",
     "text": [
      "5\n",
      "5\n",
      "5\n"
     ]
    }
   ],
   "source": [
    "a=b=c = 5\n",
    "print(a)\n",
    "print(b)\n",
    "print(c)"
   ]
  },
  {
   "cell_type": "code",
   "execution_count": 8,
   "metadata": {},
   "outputs": [],
   "source": [
    "#assign different multiple object to multiple variable at same memory location"
   ]
  },
  {
   "cell_type": "code",
   "execution_count": 9,
   "metadata": {},
   "outputs": [
    {
     "name": "stdout",
     "output_type": "stream",
     "text": [
      "1\n",
      "100.5\n",
      "Prabodh\n"
     ]
    }
   ],
   "source": [
    "a,b,c = 1, 100.5, \"Prabodh\"\n",
    "print(a)\n",
    "print(b)\n",
    "print(c)"
   ]
  },
  {
   "cell_type": "code",
   "execution_count": 10,
   "metadata": {},
   "outputs": [],
   "source": [
    "#create a variable(global variable) outside a func and use it inside a func "
   ]
  },
  {
   "cell_type": "code",
   "execution_count": 11,
   "metadata": {},
   "outputs": [
    {
     "name": "stdout",
     "output_type": "stream",
     "text": [
      "python is yo babayaga\n"
     ]
    }
   ],
   "source": [
    "x=\"yo babayaga\"\n",
    "def myfunc():\n",
    "    print(\"python is \" + x)\n",
    "myfunc()\n",
    "    "
   ]
  },
  {
   "cell_type": "code",
   "execution_count": 12,
   "metadata": {},
   "outputs": [],
   "source": [
    "#create a local variable"
   ]
  },
  {
   "cell_type": "code",
   "execution_count": 13,
   "metadata": {},
   "outputs": [
    {
     "name": "stdout",
     "output_type": "stream",
     "text": [
      "p--- is yo yo python\n"
     ]
    }
   ],
   "source": [
    "def myfunc():\n",
    "    x=\"yo yo python\"\n",
    "    print(\"p--- is \" + x)\n",
    "myfunc()"
   ]
  },
  {
   "cell_type": "code",
   "execution_count": 14,
   "metadata": {},
   "outputs": [],
   "source": [
    "#If you create a variable with the same name inside a function, this variable will be local,\n",
    "# and can only be used inside the function.\n",
    "\n",
    "\n",
    "#Create a variable inside a function, with the same name as the global variable"
   ]
  },
  {
   "cell_type": "code",
   "execution_count": 15,
   "metadata": {},
   "outputs": [
    {
     "name": "stdout",
     "output_type": "stream",
     "text": [
      "p-- is yo yo python\n",
      "python is yo babayaga\n"
     ]
    }
   ],
   "source": [
    "x=\"yo babayaga\"\n",
    "\n",
    "def myfunc():\n",
    "    x=\"yo yo python\"\n",
    "    print (\"p-- is \" + x)\n",
    "myfunc()\n",
    "\n",
    "print(\"python is \" + x)"
   ]
  },
  {
   "cell_type": "code",
   "execution_count": 16,
   "metadata": {},
   "outputs": [],
   "source": [
    "# To create a global variable inside a function, you can use the global keyword.\n",
    "# If you use the global keyword, the variable belongs to the global scope:\n"
   ]
  },
  {
   "cell_type": "code",
   "execution_count": 17,
   "metadata": {},
   "outputs": [
    {
     "name": "stdout",
     "output_type": "stream",
     "text": [
      "python is fantastic\n"
     ]
    }
   ],
   "source": [
    "def myfunc():\n",
    "    \n",
    "     global x\n",
    "     x=\"fantastic\"\n",
    "\n",
    "myfunc()\n",
    "    \n",
    "print(\"python is \" + x)"
   ]
  },
  {
   "cell_type": "code",
   "execution_count": 18,
   "metadata": {},
   "outputs": [],
   "source": [
    "# use the global keyword if you want to change a global variable inside a function."
   ]
  },
  {
   "cell_type": "code",
   "execution_count": 19,
   "metadata": {},
   "outputs": [
    {
     "name": "stdout",
     "output_type": "stream",
     "text": [
      "python  is fantastic\n"
     ]
    }
   ],
   "source": [
    "x=\"awesome\"\n",
    "\n",
    "def myfunc():\n",
    "    \n",
    "    global x\n",
    "    x=\"fantastic\"     #--this is the change value that will be display\n",
    "\n",
    "myfunc()\n",
    "\n",
    "print(\"python  is \" + x)"
   ]
  },
  {
   "cell_type": "code",
   "execution_count": 20,
   "metadata": {},
   "outputs": [],
   "source": [
    "# Built-in Data Types\n",
    "\n",
    "# Text Type:\tstr\n",
    "# Numeric Types:\tint(signed integers), float(floating point real values), complex(complex number), long(long integer, sometime represented in octal and hexadecimal)\n",
    "# Sequence Types:\tlist, tuple, range\n",
    "# Mapping Type:\tdict\n",
    "# Set Types:\tset, frozenset\n",
    "# Boolean Type:\tbool\n",
    "# Binary Types:\tbytes, bytearray, memoryview"
   ]
  },
  {
   "cell_type": "code",
   "execution_count": 21,
   "metadata": {},
   "outputs": [],
   "source": [
    "# Getting the Data Type\n",
    "# You can get the data type of any object by using the type() function:"
   ]
  },
  {
   "cell_type": "code",
   "execution_count": 22,
   "metadata": {
    "scrolled": false
   },
   "outputs": [
    {
     "name": "stdout",
     "output_type": "stream",
     "text": [
      "<class 'int'>\n",
      "<class 'float'>\n",
      "<class 'str'>\n",
      "<class 'complex'>\n",
      "<class 'list'>\n",
      "<class 'tuple'>\n",
      "<class 'range'>\n",
      "<class 'dict'>\n",
      "<class 'set'>\n",
      "<class 'frozenset'>\n",
      "<class 'bool'>\n",
      "<class 'bytes'>\n",
      "<class 'bytearray'>\n",
      "<class 'memoryview'>\n",
      "<class 'float'>\n"
     ]
    }
   ],
   "source": [
    "a=9\n",
    "b=20.5\n",
    "# Float can also be scientific numbers with an \"e\" to indicate the power of 10.\n",
    "p=-87.7e100\n",
    "\n",
    "\n",
    "c=\"prabodh\"\n",
    "d = 1j                                  # Complex numbers are written with a \"j\" as the imaginary part:\n",
    "e = [\"apple\", \"banana\", \"cherry\"]\n",
    "f = (\"apple\", \"banana\", \"cherry\")\n",
    "g = range(6)\n",
    "h = {\"name\" : \"John\", \"age\" : 36}\n",
    "i = {\"apple\", \"banana\", \"cherry\"}\n",
    "j = frozenset({\"apple\", \"banana\", \"cherry\"})\n",
    "k = True\n",
    "l = b\"Hello\"\n",
    "m = bytearray(5)\n",
    "n = memoryview(bytes(5))\n",
    "\n",
    "\n",
    "print(type(a))\n",
    "print(type(b))\n",
    "print(type(c))\n",
    "print(type(d))\n",
    "print(type(e))\n",
    "print(type(f))\n",
    "print(type(g))\n",
    "print(type(h))\n",
    "print(type(i))\n",
    "print(type(j))\n",
    "print(type(k))\n",
    "print(type(l))\n",
    "print(type(m))\n",
    "print(type(n))\n",
    "print(type(p))"
   ]
  },
  {
   "cell_type": "code",
   "execution_count": 23,
   "metadata": {},
   "outputs": [],
   "source": [
    "# Type Conversion\n",
    "# You can convert from one type to another with the int(), float(), and complex() methods:"
   ]
  },
  {
   "cell_type": "code",
   "execution_count": 24,
   "metadata": {},
   "outputs": [
    {
     "name": "stdout",
     "output_type": "stream",
     "text": [
      "1.0\n",
      "2\n",
      "(1+0j)\n"
     ]
    }
   ],
   "source": [
    "x = 1 # int\n",
    "y = 2.8 # float\n",
    "z = 1j # complex\n",
    "\n",
    "#convert from int to float:\n",
    "a = float(x)\n",
    "\n",
    "#convert from float to int:\n",
    "b = int(y)\n",
    "\n",
    "#convert from int to complex:\n",
    "c = complex(x)\n",
    "\n",
    "print(a)\n",
    "print(b)\n",
    "print(c)"
   ]
  },
  {
   "cell_type": "code",
   "execution_count": 25,
   "metadata": {},
   "outputs": [],
   "source": [
    "# Random Number\n",
    "# Python does not have a random() function to make a random number, but Python has a built-in module called random that can be used to make random numbers:"
   ]
  },
  {
   "cell_type": "code",
   "execution_count": 26,
   "metadata": {},
   "outputs": [
    {
     "name": "stdout",
     "output_type": "stream",
     "text": [
      "6\n"
     ]
    }
   ],
   "source": [
    "import random\n",
    "print(random.randrange(1,9))"
   ]
  },
  {
   "cell_type": "code",
   "execution_count": 27,
   "metadata": {},
   "outputs": [
    {
     "name": "stdout",
     "output_type": "stream",
     "text": [
      "Hello World!\n",
      "H\n",
      "llo\n",
      "llo World!\n",
      "Hello World!Hello World!\n",
      "Hello World!TEST\n"
     ]
    }
   ],
   "source": [
    "str = 'Hello World!'\n",
    "\n",
    "print (str)          # Prints complete string\n",
    "print (str[0])       # Prints first character of the string\n",
    "print (str[2:5])     # Prints characters starting from 3rd to 5th\n",
    "print (str[2:])      # Prints string starting from 3rd character\n",
    "print (str * 2)      # Prints string two times\n",
    "print (str + \"TEST\") # Prints concatenated string"
   ]
  },
  {
   "cell_type": "code",
   "execution_count": 28,
   "metadata": {},
   "outputs": [
    {
     "name": "stdout",
     "output_type": "stream",
     "text": [
      "True\n",
      "False\n",
      "b is not greater than a\n"
     ]
    }
   ],
   "source": [
    "# Boolean Values\n",
    "\n",
    "print(10>9)\n",
    "print(100.5<19)\n",
    "\n",
    "# or\n",
    "\n",
    "a=48\n",
    "b=10\n",
    "\n",
    "if b>a:\n",
    "    print(\"b is greater than a\")\n",
    "else:\n",
    "    print(\"b is not greater than a\")"
   ]
  },
  {
   "cell_type": "code",
   "execution_count": 29,
   "metadata": {},
   "outputs": [],
   "source": [
    "# Python Lists\n",
    "# List is a collection which is ordered and changeable. Allows duplicate members.\n",
    "# Tuple is a collection which is ordered and unchangeable. Allows duplicate members.\n",
    "# Set is a collection which is unordered and unindexed. No duplicate members.\n",
    "# Dictionary is a collection which is unordered, changeable and indexed. No duplicate members."
   ]
  },
  {
   "cell_type": "code",
   "execution_count": 30,
   "metadata": {},
   "outputs": [
    {
     "name": "stdout",
     "output_type": "stream",
     "text": [
      "['abcd', 786, 2.23, 'john', 70.2]\n",
      "abcd\n",
      "[786, 2.23]\n",
      "[2.23, 'john', 70.2]\n",
      "[123, 'john', 123, 'john']\n",
      "['abcd', 786, 2.23, 'john', 70.2, 123, 'john']\n"
     ]
    }
   ],
   "source": [
    "list = [ 'abcd', 786 , 2.23, 'john', 70.2 ]\n",
    "tinylist = [123, 'john']\n",
    "\n",
    "print (list)          # Prints complete list\n",
    "print (list[0])       # Prints first element of the list\n",
    "print (list[1:3])     # Prints elements starting from 2nd till 3rd \n",
    "print (list[2:])      # Prints elements starting from 3rd element\n",
    "print (tinylist * 2)  # Prints list two times\n",
    "print (list + tinylist) # Prints concatenated lists"
   ]
  },
  {
   "cell_type": "code",
   "execution_count": 31,
   "metadata": {},
   "outputs": [
    {
     "name": "stdout",
     "output_type": "stream",
     "text": [
      "['apple', 'banana', 'orange', 'pineapple']\n",
      "apple\n",
      "banana\n",
      "cherry\n"
     ]
    }
   ],
   "source": [
    "# append()\tAdds an element at the end of the list\n",
    "# clear()\tRemoves all the elements from the list\n",
    "# copy()\tReturns a copy of the list\n",
    "# count()\tReturns the number of elements with the specified value\n",
    "# extend()\tAdd the elements of a list (or any iterable), to the end of the current list\n",
    "# index()\tReturns the index of the first element with the specified value\n",
    "# insert()\tAdds an element at the specified position\n",
    "# pop()\tRemoves the element at the specified position\n",
    "# remove()\tRemoves the item with the specified value\n",
    "# reverse()\tReverses the order of the list\n",
    "# sort()\tSorts the list\n",
    "\n",
    "fruits = ['apple','banana','orange']\n",
    "fruits.append('pineapple')\n",
    "\n",
    "print(fruits)\n",
    "\n",
    "thislist = (\"apple\", \"banana\", \"cherry\")\n",
    "for x in thislist:\n",
    "  print(x)\n",
    "\n"
   ]
  },
  {
   "cell_type": "code",
   "execution_count": 32,
   "metadata": {},
   "outputs": [
    {
     "name": "stdout",
     "output_type": "stream",
     "text": [
      "('abcd', 786, 2.23, 'john', 70.2)\n",
      "abcd\n",
      "(786, 2.23)\n",
      "(2.23, 'john', 70.2)\n",
      "(123, 'john', 123, 'john')\n",
      "('abcd', 786, 2.23, 'john', 70.2, 123, 'john')\n",
      "apple\n",
      "banana\n",
      "cherry\n"
     ]
    }
   ],
   "source": [
    "# Python Tuples\n",
    "\n",
    "tuple = ( 'abcd', 786 , 2.23, 'john', 70.2  )\n",
    "tinytuple = (123, 'john')\n",
    "\n",
    "print (tuple)           # Prints complete list\n",
    "print (tuple[0])        # Prints first element of the list\n",
    "print (tuple[1:3])      # Prints elements starting from 2nd till 3rd \n",
    "print (tuple[2:])       # Prints elements starting from 3rd element\n",
    "print (tinytuple * 2)   # Prints list two times\n",
    "print (tuple + tinytuple) # Prints concatenated lists\n",
    "\n",
    "thistuple = (\"apple\", \"banana\", \"cherry\")\n",
    "for x in thistuple:\n",
    "  print(x)\n",
    "\n",
    "\n",
    "\n"
   ]
  },
  {
   "cell_type": "code",
   "execution_count": 33,
   "metadata": {},
   "outputs": [
    {
     "name": "stdout",
     "output_type": "stream",
     "text": [
      "{}\n",
      "9812547854\n",
      "dict_keys(['Prabodh', 'Babayaga', 'yoyo'])\n",
      "dict_values([9812547854, 9812478563, 9874512657])\n",
      "ferrari\n",
      "yes, babayaga is present in the dictionary phonelist\n"
     ]
    }
   ],
   "source": [
    "# python dictionaries.  lookup the values based on the keys\n",
    "\n",
    "empty={}       #empty dictionaries empty is \"key\" and {} (inside these braces are value )\n",
    "print(empty)\n",
    "\n",
    "phonelist = {'Prabodh':9812547854, 'Babayaga':9812478563, 'yoyo': 9874512657 }\n",
    "thismodel={\"model1\": \"ferrari\"}\n",
    "thismodel[\"color\"]= \"red\"      #adding item in dictionary \"thismodel\"\n",
    "thismodel.pop(\"color\")         #removing item from dictionary  or you can use->  del thismodel[\"color\"]\n",
    "\n",
    "print(phonelist['Prabodh'])\n",
    "print(phonelist.keys())\n",
    "print(phonelist.values())\n",
    "print(thismodel[\"model1\"])\n",
    "\n",
    "\n",
    "if \"Babayaga\" in phonelist:    #checking if babayaga is present in the dictionary or not\n",
    "    print(\"yes, babayaga is present in the dictionary phonelist\")"
   ]
  },
  {
   "cell_type": "code",
   "execution_count": 34,
   "metadata": {},
   "outputs": [
    {
     "name": "stdout",
     "output_type": "stream",
     "text": [
      "true\n",
      "True\n",
      "False\n",
      "True\n",
      "Both conditions are True\n",
      "At least one of the conditions is True\n"
     ]
    }
   ],
   "source": [
    "#conditions\n",
    "\n",
    "\n",
    "a=20\n",
    "b=90\n",
    "if b>a:\n",
    "        print(\"true\")\n",
    "        \n",
    "\n",
    "x=2\n",
    "print(x==2)\n",
    "print(x==3)\n",
    "print(x<4)\n",
    "\n",
    "\n",
    "a = 200\n",
    "b = 33\n",
    "c = 500\n",
    "if a > b and c > a:\n",
    "  print(\"Both conditions are True\")\n",
    "\n",
    "if a > b or a > c:\n",
    "  print(\"At least one of the conditions is True\")"
   ]
  },
  {
   "cell_type": "code",
   "execution_count": 35,
   "metadata": {},
   "outputs": [
    {
     "name": "stdout",
     "output_type": "stream",
     "text": [
      "Above ten,\n",
      "and also above 20!\n"
     ]
    }
   ],
   "source": [
    "z = 50\n",
    "\n",
    "if z > 10:\n",
    "  print(\"Above ten,\")\n",
    "  if z > 20:\n",
    "    print(\"and also above 20!\")\n",
    "  else:\n",
    "    print(\"but not above 20.\")"
   ]
  },
  {
   "cell_type": "code",
   "execution_count": 36,
   "metadata": {},
   "outputs": [
    {
     "name": "stdout",
     "output_type": "stream",
     "text": [
      "your model is either car or bus\n"
     ]
    }
   ],
   "source": [
    "vehicle =\"car\"\n",
    "if vehicle in ['car','Bus']:\n",
    "   print(\"your model is either car or bus\")"
   ]
  },
  {
   "cell_type": "code",
   "execution_count": 37,
   "metadata": {},
   "outputs": [
    {
     "name": "stdout",
     "output_type": "stream",
     "text": [
      "True\n",
      "False\n"
     ]
    }
   ],
   "source": [
    "x=[4,7,\"yoyo\"]\n",
    "y=[4,7,\"yoyo\"]\n",
    "print(x==y)\n",
    "print(x is y)"
   ]
  },
  {
   "cell_type": "code",
   "execution_count": 38,
   "metadata": {},
   "outputs": [
    {
     "name": "stdout",
     "output_type": "stream",
     "text": [
      "True\n"
     ]
    }
   ],
   "source": [
    "print(not False)"
   ]
  },
  {
   "cell_type": "code",
   "execution_count": 39,
   "metadata": {},
   "outputs": [
    {
     "name": "stdout",
     "output_type": "stream",
     "text": [
      "2\n",
      "4\n",
      "6\n",
      "8\n"
     ]
    }
   ],
   "source": [
    "evennumber=[2,4,6,8]\n",
    "for even in evennumber:\n",
    "    print(even)"
   ]
  },
  {
   "cell_type": "code",
   "execution_count": 40,
   "metadata": {},
   "outputs": [
    {
     "name": "stdout",
     "output_type": "stream",
     "text": [
      "0\n",
      "1\n",
      "2\n",
      "3\n",
      "4\n",
      "2\n",
      "3\n",
      "4\n",
      "4\n",
      "7\n"
     ]
    }
   ],
   "source": [
    "for x in range(5):\n",
    "    print(x)\n",
    "    \n",
    "for x in range(2,5):\n",
    "    print(x)\n",
    "    \n",
    "for z in range(4,9,3):     #Syntax:range (start, stop, [step])\n",
    "    print(z)"
   ]
  },
  {
   "cell_type": "code",
   "execution_count": 45,
   "metadata": {},
   "outputs": [
    {
     "name": "stdout",
     "output_type": "stream",
     "text": [
      "0\n",
      "1\n",
      "2\n",
      "3\n",
      "4\n",
      "5\n"
     ]
    }
   ],
   "source": [
    "m = 0\n",
    "while m < 6:\n",
    "    print(m)\n",
    "    m += 1"
   ]
  },
  {
   "cell_type": "code",
   "execution_count": 51,
   "metadata": {},
   "outputs": [
    {
     "name": "stdout",
     "output_type": "stream",
     "text": [
      "1\n",
      "2\n",
      "3\n",
      "4\n",
      "5\n",
      "6\n"
     ]
    }
   ],
   "source": [
    "j = 1\n",
    "while j < 8:\n",
    "    print(j)\n",
    "    j += 1\n",
    "   \n",
    "    if j>6:\n",
    "        break\n",
    "    "
   ]
  },
  {
   "cell_type": "code",
   "execution_count": 52,
   "metadata": {},
   "outputs": [
    {
     "name": "stdout",
     "output_type": "stream",
     "text": [
      "0\n",
      "1\n",
      "2\n",
      "3\n",
      "4\n",
      "5\n",
      "6\n",
      "7\n"
     ]
    }
   ],
   "source": [
    "count = 0\n",
    "while True:\n",
    "    print(count)\n",
    "    count +=1\n",
    "    if count>=8:\n",
    "        break"
   ]
  },
  {
   "cell_type": "code",
   "execution_count": 57,
   "metadata": {},
   "outputs": [
    {
     "name": "stdout",
     "output_type": "stream",
     "text": [
      "1\n",
      "2\n",
      "4\n",
      "5\n",
      "6\n",
      "7\n",
      "8\n"
     ]
    }
   ],
   "source": [
    "i=0\n",
    "while i<8:\n",
    "   \n",
    "    i+=1\n",
    "    if i==3:\n",
    "        continue\n",
    "    print(i)"
   ]
  },
  {
   "cell_type": "code",
   "execution_count": 63,
   "metadata": {},
   "outputs": [
    {
     "name": "stdout",
     "output_type": "stream",
     "text": [
      "1\n",
      "3\n",
      "5\n",
      "7\n",
      "9\n"
     ]
    }
   ],
   "source": [
    "for x in range(10):\n",
    "    if x%2==0:\n",
    "        \n",
    "        continue\n",
    "    print(x)"
   ]
  },
  {
   "cell_type": "code",
   "execution_count": 22,
   "metadata": {},
   "outputs": [
    {
     "data": {
      "text/plain": [
       "8"
      ]
     },
     "execution_count": 22,
     "metadata": {},
     "output_type": "execute_result"
    }
   ],
   "source": [
    "def myfunc_with_args(num1, num2):\n",
    "    return num1 + num2\n",
    "myfunc_with_args(3,5)\n",
    "\n",
    "\n"
   ]
  },
  {
   "cell_type": "code",
   "execution_count": 6,
   "metadata": {},
   "outputs": [
    {
     "name": "stdout",
     "output_type": "stream",
     "text": [
      "Prabodh sharma\n"
     ]
    }
   ],
   "source": [
    "def myfunc(Firstname):\n",
    "    print(Firstname + \" \"+ \"sharma\")\n",
    "\n",
    "myfunc(\"Prabodh\")"
   ]
  },
  {
   "cell_type": "code",
   "execution_count": 23,
   "metadata": {},
   "outputs": [
    {
     "name": "stdout",
     "output_type": "stream",
     "text": [
      "15\n",
      "20\n"
     ]
    }
   ],
   "source": [
    "def myfunc(z):\n",
    "    return 5*z\n",
    "print(myfunc(3))\n",
    "print(myfunc(4))"
   ]
  },
  {
   "cell_type": "code",
   "execution_count": 15,
   "metadata": {},
   "outputs": [
    {
     "name": "stdout",
     "output_type": "stream",
     "text": [
      "I choose girlfriend4\n"
     ]
    }
   ],
   "source": [
    "def yo_yo_func(*Girlfriend):\n",
    "    print(\"I choose\"+\" \" + Girlfriend[3])\n",
    "\n",
    "yo_yo_func(\"girlfriend1\",\"girlfriend2\",\"girlfriend3\",\"girlfriend4\")   #if a number of argument is unknown add a * before the parameter name"
   ]
  },
  {
   "cell_type": "code",
   "execution_count": 17,
   "metadata": {},
   "outputs": [
    {
     "name": "stdout",
     "output_type": "stream",
     "text": [
      "your gf no. is gf3\n"
     ]
    }
   ],
   "source": [
    "#argument with key=value syntax:\n",
    "\n",
    "def yo_yo_func(a,b,c):\n",
    "    print(\"your gf no. is\"+\" \" + c)\n",
    "    \n",
    "yo_yo_func(a=\"gf1\", b=\"gf2\", c=\"gf3\")"
   ]
  },
  {
   "cell_type": "code",
   "execution_count": 19,
   "metadata": {},
   "outputs": [
    {
     "name": "stdout",
     "output_type": "stream",
     "text": [
      "apple\n",
      "banana\n",
      "orange\n"
     ]
    }
   ],
   "source": [
    "#passing the list as an argument\n",
    "\n",
    "fruits=['apple','banana','orange']\n",
    "\n",
    "def myfunc(foods):\n",
    "    for x in foods:\n",
    "        print(x)\n",
    "        \n",
    "myfunc(fruits)"
   ]
  },
  {
   "cell_type": "code",
   "execution_count": 24,
   "metadata": {},
   "outputs": [
    {
     "name": "stdout",
     "output_type": "stream",
     "text": [
      "20\n"
     ]
    }
   ],
   "source": [
    "#Class and object   Almost everything in Python is an object, with its properties and methods. A Class is like an object constructor, or a \"blueprint\" for creating objects.\n",
    "\n",
    "class my_class:\n",
    "    \n",
    "    x=20\n",
    "    \n",
    "A=my_class    # we can use the class named MyClass to create object A.\n",
    "print(A.x)"
   ]
  },
  {
   "cell_type": "code",
   "execution_count": null,
   "metadata": {},
   "outputs": [],
   "source": []
  }
 ],
 "metadata": {
  "kernelspec": {
   "display_name": "Python 3",
   "language": "python",
   "name": "python3"
  },
  "language_info": {
   "codemirror_mode": {
    "name": "ipython",
    "version": 3
   },
   "file_extension": ".py",
   "mimetype": "text/x-python",
   "name": "python",
   "nbconvert_exporter": "python",
   "pygments_lexer": "ipython3",
   "version": "3.7.3"
  }
 },
 "nbformat": 4,
 "nbformat_minor": 2
}
